{
 "cells": [
  {
   "cell_type": "code",
   "execution_count": 8,
   "metadata": {},
   "outputs": [],
   "source": [
    "def LUP (a, n):\n",
    "    for k in range (1, n):\n",
    "        maxa = abs(a[k,k])\n",
    "        p[k]=k\n",
    "        for i in range (k+1, n+1):\n",
    "            if (abs(a[i][k]>maxa)):\n",
    "                maxa = abs(a[i][k])\n",
    "                p[k]=i\n",
    "        for j in range (1, n+1):\n",
    "            temp = a[k][j]\n",
    "            a[k][j] = a[p[k]][j] = temp\n",
    "        for i in range (k+1, n+1):\n",
    "            a[i][k]=a[i][k]/a[k][k]\n",
    "        for j in range (k+1, n+1):\n",
    "            for i in range (k+1, n+1):\n",
    "                a[i][j]=a[i][j]-a[i][k]*a[k][j]\n",
    "    return a\n",
    "        "
   ]
  },
  {
   "cell_type": "code",
   "execution_count": 15,
   "metadata": {},
   "outputs": [],
   "source": [
    "def FactorizacionLU (A, n):\n",
    "    for k in range (n):\n",
    "        for i in range (k+1, n):\n",
    "            A[i][k]=A[i][k]/A[k][k]\n",
    "        for j in range (k+1, n):\n",
    "            for i in range (k+1,n):\n",
    "                A[i][j]=A[i][j]-A[i][k]*A[k][j]\n",
    "    return A"
   ]
  },
  {
   "cell_type": "code",
   "execution_count": 21,
   "metadata": {},
   "outputs": [],
   "source": [
    "def renglones(M,n):\n",
    "    b=[1.0,3.0,2.0]\n",
    "    for i in range(n):\n",
    "        for j in range (i):\n",
    "            b[i] = b[i]-M[i][j]*b[j]\n",
    "        b[i]=b[i]/M[i][i]\n",
    "    return b"
   ]
  },
  {
   "cell_type": "code",
   "execution_count": 11,
   "metadata": {},
   "outputs": [],
   "source": [
    "M=[[1,3,-4],[0,-1,5],[2,0,4]]"
   ]
  },
  {
   "cell_type": "code",
   "execution_count": 22,
   "metadata": {},
   "outputs": [
    {
     "data": {
      "text/plain": [
       "[1.0, -3.0, -0.0]"
      ]
     },
     "execution_count": 22,
     "metadata": {},
     "output_type": "execute_result"
    }
   ],
   "source": [
    "renglones(FactorizacionLU(M,3), 3)"
   ]
  },
  {
   "cell_type": "code",
   "execution_count": 19,
   "metadata": {},
   "outputs": [
    {
     "data": {
      "text/plain": [
       "[[1, 3, -4], [0.0, -1.0, 5.0], [2.0, 6.0, -32.0]]"
      ]
     },
     "execution_count": 19,
     "metadata": {},
     "output_type": "execute_result"
    }
   ],
   "source": [
    "FactorizacionLU(M,3)"
   ]
  },
  {
   "cell_type": "code",
   "execution_count": 20,
   "metadata": {},
   "outputs": [
    {
     "data": {
      "text/plain": [
       "[[1, 3, -4], [0.0, -1.0, 5.0], [2.0, 6.0, -32.0]]"
      ]
     },
     "execution_count": 20,
     "metadata": {},
     "output_type": "execute_result"
    }
   ],
   "source": [
    "M"
   ]
  },
  {
   "cell_type": "code",
   "execution_count": null,
   "metadata": {},
   "outputs": [],
   "source": []
  }
 ],
 "metadata": {
  "kernelspec": {
   "display_name": "Python 3",
   "language": "python",
   "name": "python3"
  },
  "language_info": {
   "codemirror_mode": {
    "name": "ipython",
    "version": 3
   },
   "file_extension": ".py",
   "mimetype": "text/x-python",
   "name": "python",
   "nbconvert_exporter": "python",
   "pygments_lexer": "ipython3",
   "version": "3.8.5"
  }
 },
 "nbformat": 4,
 "nbformat_minor": 4
}
